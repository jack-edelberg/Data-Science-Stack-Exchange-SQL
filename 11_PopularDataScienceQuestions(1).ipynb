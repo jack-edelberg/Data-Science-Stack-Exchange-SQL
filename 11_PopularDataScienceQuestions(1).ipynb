{
 "cells": [
  {
   "cell_type": "markdown",
   "id": "bf2d8d24",
   "metadata": {},
   "source": [
    "# Popular Data Science Questions\n",
    "## An analysis of Data Science Stack Exchange"
   ]
  },
  {
   "cell_type": "markdown",
   "id": "afa143db",
   "metadata": {},
   "source": [
    "## Executive Summary\n",
    "This project utilized publicly available data from Data Science Stack Exchange to evaluate trends in data science topics. The analysis showed that interest in machine learning is decreasing, while interest in deep learning is increasing.\n",
    "\n",
    "The analysis also indicated that the field is utilizing Data Science Stack Exchange less over time."
   ]
  },
  {
   "cell_type": "markdown",
   "id": "60e2a56b",
   "metadata": {},
   "source": [
    "## Introduction\n",
    "Data Scientists are continuously generating new techniques and methodologies. This evolution requires data scientists to quickly and effectively integrate new knowledge into their workstreams. However, we often run into debugging, logistical, or theoretical problems which we are unable to solve on our own. When this occurs, we turn to others for help. One outlet for seeking that help is a [collection of websites called Stack Exchange](https://stackexchange.com/sites?view=grid#). These websites are crowd-sourced Q&A forums for a [wide](https://photo.stackexchange.com/) [variety](https://math.stackexchange.com/) [of](https://bricks.stackexchange.com/) [topics](https://rpg.stackexchange.com/). \n",
    "\n",
    "[Data Science has its own Stack Exchange](https://datascience.stackexchange.com/), and it is used as a resource for data scientists to ask questions about their projects, code, or concepts. **We can use the posts in Data Science Stack Exchange (DSSE) to identify trends in the field** for two reasons:\n",
    "1. The website has been in regular use for the past 7 years.\n",
    "2. New and challenging concepts are most likely to generate questions on the site."
   ]
  },
  {
   "cell_type": "markdown",
   "id": "529e1370",
   "metadata": {},
   "source": [
    "## Methodology\n",
    "To identify trends on DSSE, I needed a way to identify the core topic(s) of each post. The most straightforward method to achieve this was to use **tags**. The posting interface on DSSE explains tags in the following manner:\n",
    "\n",
    "> Tags help the right people find and answer your question.\n",
    ">\n",
    "> * Identify your tags by completing the sentence, \"My question is about…\"\n",
    ">\n",
    "> * Include tags that are crucial to your question only\n",
    ">\n",
    "> * Use existing popular tags\n",
    "\n",
    "By definition, these tags are an easily accessible method by which to gauge post topic.\n",
    "\n",
    "### Data Acquisition\n",
    "Using the [SQL Query interface provided on DSSE's website](https://data.stackexchange.com/datascience/query/new), I gathered a *.csv* file containing the data for this analysis.\n",
    "\n",
    "The following SQL query was used to obtain the data subset:\n",
    "```\n",
    "SELECT *\n",
    "  FROM Posts\n",
    " WHERE PostTypeId = 1\n",
    " ORDER BY CreationDate DESC;\n",
    " ```\n",
    "`PostTypeId = 1` identifies the post as a question, rather than an answer or a reply."
   ]
  },
  {
   "cell_type": "markdown",
   "id": "ed454043",
   "metadata": {},
   "source": [
    "## Imports"
   ]
  },
  {
   "cell_type": "code",
   "execution_count": 1,
   "id": "a1ab85d4",
   "metadata": {},
   "outputs": [],
   "source": [
    "import pandas as pd\n",
    "import matplotlib.pyplot as plt\n",
    "import seaborn as sns\n",
    "import re\n",
    "import numpy as np"
   ]
  },
  {
   "cell_type": "markdown",
   "id": "4a9d70ab",
   "metadata": {},
   "source": [
    "## Data Cleaning"
   ]
  },
  {
   "cell_type": "markdown",
   "id": "f7be7b0d",
   "metadata": {},
   "source": [
    "Cleaning these data will consist of the following steps:\n",
    "1. Dropping unneeded and/or empty columns\n",
    "2. Extract individual tags from the single string they are formatted into\n",
    "3. Fill NaN values appropriately"
   ]
  },
  {
   "cell_type": "code",
   "execution_count": 2,
   "id": "6ffbd081",
   "metadata": {
    "scrolled": true
   },
   "outputs": [
    {
     "name": "stdout",
     "output_type": "stream",
     "text": [
      "<class 'pandas.core.frame.DataFrame'>\n",
      "RangeIndex: 30336 entries, 0 to 30335\n",
      "Data columns (total 12 columns):\n",
      " #   Column            Non-Null Count  Dtype         \n",
      "---  ------            --------------  -----         \n",
      " 0   Id                30336 non-null  int64         \n",
      " 1   AcceptedAnswerId  10155 non-null  float64       \n",
      " 2   CreationDate      30336 non-null  datetime64[ns]\n",
      " 3   Score             30336 non-null  int64         \n",
      " 4   ViewCount         30336 non-null  int64         \n",
      " 5   Body              30336 non-null  object        \n",
      " 6   OwnerUserId       30144 non-null  float64       \n",
      " 7   Title             30336 non-null  object        \n",
      " 8   Tags              30336 non-null  object        \n",
      " 9   AnswerCount       30336 non-null  int64         \n",
      " 10  CommentCount      30336 non-null  int64         \n",
      " 11  FavoriteCount     8073 non-null   float64       \n",
      "dtypes: datetime64[ns](1), float64(3), int64(5), object(3)\n",
      "memory usage: 2.8+ MB\n"
     ]
    }
   ],
   "source": [
    "dsse = pd.read_csv('./DataSets/DataScienceStackExchange/210905DataScienceStackExchangeQuestions.csv',\n",
    "                   parse_dates = ['CreationDate'])\n",
    "\n",
    "# Drop unneeded columns\n",
    "dsse.drop(labels = ['ParentId', 'DeletionDate', 'OwnerDisplayName', 'LastEditorDisplayName',\n",
    "                    'ClosedDate', 'CommunityOwnedDate', 'ContentLicense', 'PostTypeId',\n",
    "                    'LastEditDate', 'LastEditorUserId', 'LastActivityDate'],\n",
    "          axis = 1,\n",
    "          inplace = True)\n",
    "\n",
    "dsse.info()"
   ]
  },
  {
   "cell_type": "code",
   "execution_count": 3,
   "id": "04534714",
   "metadata": {},
   "outputs": [],
   "source": [
    "# Extract the individual tags from a string of format '<tag1a-tag1b><tag2a-tag2b>...<tagNa-tagNb>'\n",
    "dsse['Tags'] = dsse['Tags'].apply(lambda s: re.findall(r'([^<>]+)',s))"
   ]
  },
  {
   "cell_type": "code",
   "execution_count": 4,
   "id": "30ef1b3e",
   "metadata": {},
   "outputs": [],
   "source": [
    "dsse['FavoriteCount'] = dsse['FavoriteCount'].fillna(0).astype(int)"
   ]
  },
  {
   "cell_type": "code",
   "execution_count": 5,
   "id": "22202fa8",
   "metadata": {},
   "outputs": [
    {
     "data": {
      "text/plain": [
       "0                        [apache-hadoop, data-table, hive]\n",
       "1                                          [python, keras]\n",
       "2        [scikit-learn, regression, data-cleaning, cate...\n",
       "3                                            [data-mining]\n",
       "4                [deep-learning, scikit-learn, tensorflow]\n",
       "                               ...                        \n",
       "30331                  [machine-learning, bigdata, libsvm]\n",
       "30332                                          [databases]\n",
       "30333                           [data-mining, definitions]\n",
       "30334                             [education, open-source]\n",
       "30335                                   [machine-learning]\n",
       "Name: Tags, Length: 30336, dtype: object"
      ]
     },
     "execution_count": 5,
     "metadata": {},
     "output_type": "execute_result"
    }
   ],
   "source": [
    "dsse['Tags']"
   ]
  },
  {
   "cell_type": "markdown",
   "id": "58b6e151",
   "metadata": {},
   "source": [
    "## Analysis\n",
    "### Tag prevalence and views over time\n",
    "By tracking the relative prevalence of tags, as well as the number of times each tag is viewed, we can measure the relative popularity of different topics in data science over the past 7 years."
   ]
  },
  {
   "cell_type": "code",
   "execution_count": 6,
   "id": "641c1724",
   "metadata": {},
   "outputs": [],
   "source": [
    "# Count the frequency of tags in the dataset by year\n",
    "years_of_interest = range(2014,2022)\n",
    "tag_prevalence_raw = pd.DataFrame(columns = years_of_interest)\n",
    "tag_views_raw =      pd.DataFrame(columns = years_of_interest)\n",
    "\n",
    "for i in range(dsse.shape[0]):\n",
    "    row = dsse.loc[i,:]\n",
    "    row_tags = row['Tags']\n",
    "    question_year = row['CreationDate'].year\n",
    "    question_views = row['ViewCount']\n",
    "    \n",
    "    for tag in row_tags:\n",
    "        if (tag in tag_prevalence_raw.index):\n",
    "            tag_prevalence_raw.loc[tag, question_year] = tag_prevalence_raw.loc[tag, question_year] + 1\n",
    "        else:\n",
    "            tag_prevalence_raw.loc[tag, years_of_interest] = 0\n",
    "            \n",
    "        if (tag in tag_views_raw.index):\n",
    "            tag_views_raw.loc[tag, question_year] = tag_views_raw.loc[tag, question_year] + question_views\n",
    "        else:\n",
    "            tag_views_raw.loc[tag, years_of_interest] = 0"
   ]
  },
  {
   "cell_type": "code",
   "execution_count": 7,
   "id": "ad46c667",
   "metadata": {},
   "outputs": [
    {
     "name": "stdout",
     "output_type": "stream",
     "text": [
      "Fraction of questions including a given tag by year\n",
      "---------------------------------------------------\n"
     ]
    },
    {
     "data": {
      "text/html": [
       "<div>\n",
       "<style scoped>\n",
       "    .dataframe tbody tr th:only-of-type {\n",
       "        vertical-align: middle;\n",
       "    }\n",
       "\n",
       "    .dataframe tbody tr th {\n",
       "        vertical-align: top;\n",
       "    }\n",
       "\n",
       "    .dataframe thead th {\n",
       "        text-align: right;\n",
       "    }\n",
       "</style>\n",
       "<table border=\"1\" class=\"dataframe\">\n",
       "  <thead>\n",
       "    <tr style=\"text-align: right;\">\n",
       "      <th></th>\n",
       "      <th>index</th>\n",
       "      <th>2014</th>\n",
       "      <th>2015</th>\n",
       "      <th>2016</th>\n",
       "      <th>2017</th>\n",
       "      <th>2018</th>\n",
       "      <th>2019</th>\n",
       "      <th>2020</th>\n",
       "      <th>2021</th>\n",
       "    </tr>\n",
       "  </thead>\n",
       "  <tbody>\n",
       "    <tr>\n",
       "      <th>0</th>\n",
       "      <td>machine-learning</td>\n",
       "      <td>0.122</td>\n",
       "      <td>0.137</td>\n",
       "      <td>0.111</td>\n",
       "      <td>0.118</td>\n",
       "      <td>0.114</td>\n",
       "      <td>0.104</td>\n",
       "      <td>0.093</td>\n",
       "      <td>0.089</td>\n",
       "    </tr>\n",
       "    <tr>\n",
       "      <th>1</th>\n",
       "      <td>python</td>\n",
       "      <td>0.031</td>\n",
       "      <td>0.045</td>\n",
       "      <td>0.053</td>\n",
       "      <td>0.056</td>\n",
       "      <td>0.065</td>\n",
       "      <td>0.070</td>\n",
       "      <td>0.059</td>\n",
       "      <td>0.060</td>\n",
       "    </tr>\n",
       "    <tr>\n",
       "      <th>2</th>\n",
       "      <td>deep-learning</td>\n",
       "      <td>0.006</td>\n",
       "      <td>0.010</td>\n",
       "      <td>0.027</td>\n",
       "      <td>0.050</td>\n",
       "      <td>0.055</td>\n",
       "      <td>0.044</td>\n",
       "      <td>0.044</td>\n",
       "      <td>0.050</td>\n",
       "    </tr>\n",
       "    <tr>\n",
       "      <th>3</th>\n",
       "      <td>neural-network</td>\n",
       "      <td>0.019</td>\n",
       "      <td>0.033</td>\n",
       "      <td>0.047</td>\n",
       "      <td>0.057</td>\n",
       "      <td>0.057</td>\n",
       "      <td>0.040</td>\n",
       "      <td>0.035</td>\n",
       "      <td>0.031</td>\n",
       "    </tr>\n",
       "  </tbody>\n",
       "</table>\n",
       "</div>"
      ],
      "text/plain": [
       "              index   2014   2015   2016   2017   2018   2019   2020   2021\n",
       "0  machine-learning  0.122  0.137  0.111  0.118  0.114  0.104  0.093  0.089\n",
       "1            python  0.031  0.045  0.053  0.056  0.065  0.070  0.059  0.060\n",
       "2     deep-learning  0.006  0.010  0.027  0.050  0.055  0.044  0.044  0.050\n",
       "3    neural-network  0.019  0.033  0.047  0.057  0.057  0.040  0.035  0.031"
      ]
     },
     "execution_count": 7,
     "metadata": {},
     "output_type": "execute_result"
    }
   ],
   "source": [
    "# Post-processing of prevalence data to select top tags and calculate tag frequencies instead\n",
    "#     of absolute number of tags.\n",
    "tag_prevalence = tag_prevalence_raw.sort_values(2021, ascending = False)\n",
    "total_tags = tag_prevalence_raw[years_of_interest].sum()\n",
    "tag_prevalence = (tag_prevalence / total_tags).astype(float).round(3)\n",
    "top_tag_prevalence = tag_prevalence.iloc[:4,:]\n",
    "top_tag_prevalence = top_tag_prevalence.reset_index()\n",
    "\n",
    "print(f'Fraction of questions including a given tag by year')\n",
    "print(f'---------------------------------------------------')\n",
    "top_tag_prevalence"
   ]
  },
  {
   "cell_type": "code",
   "execution_count": 8,
   "id": "eb3f8463",
   "metadata": {},
   "outputs": [
    {
     "name": "stdout",
     "output_type": "stream",
     "text": [
      "Fraction of views of a question including a given tag by year\n",
      "-------------------------------------------------------------\n"
     ]
    },
    {
     "data": {
      "text/html": [
       "<div>\n",
       "<style scoped>\n",
       "    .dataframe tbody tr th:only-of-type {\n",
       "        vertical-align: middle;\n",
       "    }\n",
       "\n",
       "    .dataframe tbody tr th {\n",
       "        vertical-align: top;\n",
       "    }\n",
       "\n",
       "    .dataframe thead th {\n",
       "        text-align: right;\n",
       "    }\n",
       "</style>\n",
       "<table border=\"1\" class=\"dataframe\">\n",
       "  <thead>\n",
       "    <tr style=\"text-align: right;\">\n",
       "      <th></th>\n",
       "      <th>index</th>\n",
       "      <th>2014</th>\n",
       "      <th>2015</th>\n",
       "      <th>2016</th>\n",
       "      <th>2017</th>\n",
       "      <th>2018</th>\n",
       "      <th>2019</th>\n",
       "      <th>2020</th>\n",
       "      <th>2021</th>\n",
       "    </tr>\n",
       "  </thead>\n",
       "  <tbody>\n",
       "    <tr>\n",
       "      <th>0</th>\n",
       "      <td>python</td>\n",
       "      <td>0.060</td>\n",
       "      <td>0.071</td>\n",
       "      <td>0.100</td>\n",
       "      <td>0.096</td>\n",
       "      <td>0.125</td>\n",
       "      <td>0.116</td>\n",
       "      <td>0.083</td>\n",
       "      <td>0.087</td>\n",
       "    </tr>\n",
       "    <tr>\n",
       "      <th>1</th>\n",
       "      <td>machine-learning</td>\n",
       "      <td>0.127</td>\n",
       "      <td>0.114</td>\n",
       "      <td>0.087</td>\n",
       "      <td>0.113</td>\n",
       "      <td>0.097</td>\n",
       "      <td>0.077</td>\n",
       "      <td>0.075</td>\n",
       "      <td>0.069</td>\n",
       "    </tr>\n",
       "    <tr>\n",
       "      <th>2</th>\n",
       "      <td>deep-learning</td>\n",
       "      <td>0.019</td>\n",
       "      <td>0.013</td>\n",
       "      <td>0.057</td>\n",
       "      <td>0.065</td>\n",
       "      <td>0.048</td>\n",
       "      <td>0.044</td>\n",
       "      <td>0.034</td>\n",
       "      <td>0.042</td>\n",
       "    </tr>\n",
       "    <tr>\n",
       "      <th>3</th>\n",
       "      <td>keras</td>\n",
       "      <td>0.000</td>\n",
       "      <td>0.001</td>\n",
       "      <td>0.034</td>\n",
       "      <td>0.030</td>\n",
       "      <td>0.046</td>\n",
       "      <td>0.049</td>\n",
       "      <td>0.051</td>\n",
       "      <td>0.040</td>\n",
       "    </tr>\n",
       "  </tbody>\n",
       "</table>\n",
       "</div>"
      ],
      "text/plain": [
       "              index   2014   2015   2016   2017   2018   2019   2020   2021\n",
       "0            python  0.060  0.071  0.100  0.096  0.125  0.116  0.083  0.087\n",
       "1  machine-learning  0.127  0.114  0.087  0.113  0.097  0.077  0.075  0.069\n",
       "2     deep-learning  0.019  0.013  0.057  0.065  0.048  0.044  0.034  0.042\n",
       "3             keras  0.000  0.001  0.034  0.030  0.046  0.049  0.051  0.040"
      ]
     },
     "execution_count": 8,
     "metadata": {},
     "output_type": "execute_result"
    }
   ],
   "source": [
    "# Post-processing of view data to select top tags and normalize them to the number of views\n",
    "#     asked each year.\n",
    "tag_views = tag_views_raw.sort_values(2021, ascending = False)\n",
    "total_views = tag_views_raw[years_of_interest].sum()\n",
    "tag_views = (tag_views / total_views).astype(float).round(3)\n",
    "top_tag_views = tag_views.iloc[:4,:]\n",
    "top_tag_views = top_tag_views.reset_index()\n",
    "\n",
    "print(f'Fraction of views of a question including a given tag by year')\n",
    "print(f'-------------------------------------------------------------')\n",
    "top_tag_views"
   ]
  },
  {
   "cell_type": "code",
   "execution_count": 9,
   "id": "4381e650",
   "metadata": {},
   "outputs": [
    {
     "data": {
      "image/png": "[encoded data removed]",
      "text/plain": [
       "<Figure size 720x720 with 2 Axes>"
      ]
     },
     "metadata": {
      "needs_background": "light"
     },
     "output_type": "display_data"
    }
   ],
   "source": [
    "# Prepare data for plotting and plot\n",
    "top_tag_prevalence_melt = top_tag_prevalence.melt(id_vars = ['index'],\n",
    "                                                 value_vars = years_of_interest)\n",
    "top_tag_prevalence_melt.columns = ['Tag', 'Year', 'value']\n",
    "\n",
    "top_tag_views_melt = top_tag_views.melt(id_vars = ['index'],\n",
    "                                        value_vars = years_of_interest)\n",
    "top_tag_views_melt.columns = ['Tag', 'Year', 'value']\n",
    "\n",
    "\n",
    "# Plotting code\n",
    "f, (ax1, ax2) = plt.subplots(2, 1, figsize=(10, 10), sharex=True)\n",
    "sns.lineplot(data = top_tag_prevalence_melt,\n",
    "             x = 'Year',\n",
    "             y = 'value',\n",
    "             hue = 'Tag',\n",
    "             palette = ['blue','orange','red','green'],\n",
    "             ax = ax1)\n",
    "ax1.set(ylabel = 'Fraction of questions including a given tag')\n",
    "\n",
    "sns.lineplot(data = top_tag_views_melt,\n",
    "             x = 'Year',\n",
    "             y = 'value',\n",
    "             hue = 'Tag',\n",
    "             palette = ['orange','blue','red','purple'],\n",
    "             ax = ax2)\n",
    "ax2 = ax2.set(ylabel = 'Fraction of views on a question including a given tag')"
   ]
  },
  {
   "cell_type": "markdown",
   "id": "1778cf86",
   "metadata": {},
   "source": [
    "The plots above show (top) the fraction of all questions in a year that are tagged with one of the top four 2021 tags and (bottom) the fraction of all views that are on a question with a given tag by year.\n",
    "\n",
    "With respect to **tag prevalence** (top graph), we can make the following observations:\n",
    "* Absolute tag frequency\n",
    "    * **Machine learning** is consistently the **most asked about topic on DSSE**.\n",
    "    * The fraction of questions tagged with **neural-network** peaked in 2017.\n",
    "* Relative tag frequency\n",
    "    * **Deep learning** had **very few posts in 2014,** but **in 2021, it was assigned to 5% of questions**.\n",
    "    * **Python** has consistently been the second most frequent tag after *machine-learning*\n",
    "\n",
    "<br/><br/>\n",
    "With respect to **view fraction** (bottom graph), we can make the following observations:\n",
    "* Absolute view fraction\n",
    "    * Of the most viewed tags in 2021, **machine learning** was the **most viewed in 2014**, but it has since dropped in view fraction.\n",
    "    * The fraction of all views on **deep learning peaked in 2017**.\n",
    "* Relative view fraction\n",
    "    * **Deep learning** and Python's deep learning API **Keras**, have increased in view fraction since 2014."
   ]
  },
  {
   "cell_type": "markdown",
   "id": "1fea2721",
   "metadata": {},
   "source": [
    "### Overall activity on DSSE\n",
    "\n",
    "Taking the **two plots together**, we can gain additional insight. Quantitatively, we can divide the number of times a tag was used by the number of views on posts with a given tag.This should give a better metric of community interest than the raw numbers alone.\n",
    "\n",
    "To avoid skewing the results with low-view or low-post tags, I only analyzed the four most prevalent tags in 2021 - 'machine-learning', 'python', 'deep-learning', and 'neural-network'."
   ]
  },
  {
   "cell_type": "code",
   "execution_count": 10,
   "id": "388b656e",
   "metadata": {},
   "outputs": [
    {
     "name": "stdout",
     "output_type": "stream",
     "text": [
      "Number of views per post with a given tag\n",
      "-----------------------------------------\n"
     ]
    },
    {
     "data": {
      "text/html": [
       "<div>\n",
       "<style scoped>\n",
       "    .dataframe tbody tr th:only-of-type {\n",
       "        vertical-align: middle;\n",
       "    }\n",
       "\n",
       "    .dataframe tbody tr th {\n",
       "        vertical-align: top;\n",
       "    }\n",
       "\n",
       "    .dataframe thead th {\n",
       "        text-align: right;\n",
       "    }\n",
       "</style>\n",
       "<table border=\"1\" class=\"dataframe\">\n",
       "  <thead>\n",
       "    <tr style=\"text-align: right;\">\n",
       "      <th></th>\n",
       "      <th>2014</th>\n",
       "      <th>2015</th>\n",
       "      <th>2016</th>\n",
       "      <th>2017</th>\n",
       "      <th>2018</th>\n",
       "      <th>2019</th>\n",
       "      <th>2020</th>\n",
       "      <th>2021</th>\n",
       "    </tr>\n",
       "  </thead>\n",
       "  <tbody>\n",
       "    <tr>\n",
       "      <th>machine-learning</th>\n",
       "      <td>7387</td>\n",
       "      <td>4073</td>\n",
       "      <td>4043</td>\n",
       "      <td>3431</td>\n",
       "      <td>2284</td>\n",
       "      <td>800</td>\n",
       "      <td>274</td>\n",
       "      <td>44</td>\n",
       "    </tr>\n",
       "    <tr>\n",
       "      <th>python</th>\n",
       "      <td>13896</td>\n",
       "      <td>7655</td>\n",
       "      <td>9812</td>\n",
       "      <td>6134</td>\n",
       "      <td>5162</td>\n",
       "      <td>1798</td>\n",
       "      <td>482</td>\n",
       "      <td>83</td>\n",
       "    </tr>\n",
       "    <tr>\n",
       "      <th>deep-learning</th>\n",
       "      <td>23338</td>\n",
       "      <td>6314</td>\n",
       "      <td>11116</td>\n",
       "      <td>4656</td>\n",
       "      <td>2335</td>\n",
       "      <td>1088</td>\n",
       "      <td>265</td>\n",
       "      <td>48</td>\n",
       "    </tr>\n",
       "    <tr>\n",
       "      <th>neural-network</th>\n",
       "      <td>12462</td>\n",
       "      <td>6855</td>\n",
       "      <td>6150</td>\n",
       "      <td>3798</td>\n",
       "      <td>2221</td>\n",
       "      <td>1041</td>\n",
       "      <td>274</td>\n",
       "      <td>41</td>\n",
       "    </tr>\n",
       "  </tbody>\n",
       "</table>\n",
       "</div>"
      ],
      "text/plain": [
       "                   2014  2015   2016  2017  2018  2019  2020  2021\n",
       "machine-learning   7387  4073   4043  3431  2284   800   274    44\n",
       "python            13896  7655   9812  6134  5162  1798   482    83\n",
       "deep-learning     23338  6314  11116  4656  2335  1088   265    48\n",
       "neural-network    12462  6855   6150  3798  2221  1041   274    41"
      ]
     },
     "execution_count": 10,
     "metadata": {},
     "output_type": "execute_result"
    }
   ],
   "source": [
    "# Calculate the 'views per post'\n",
    "top_4_tags = ['machine-learning', 'python', 'deep-learning', 'neural-network']\n",
    "top_4_prevalence_raw = tag_prevalence_raw.loc[top_4_tags, :]\n",
    "top_4_views_raw = tag_views_raw.loc[top_4_tags, :]\n",
    "\n",
    "top_4_views_per_tag_use = (top_4_views_raw / top_4_prevalence_raw).astype(int)\n",
    "print(f'Number of views per post with a given tag')\n",
    "print(f'-----------------------------------------')\n",
    "top_4_views_per_tag_use"
   ]
  },
  {
   "cell_type": "code",
   "execution_count": 11,
   "id": "7a964344",
   "metadata": {},
   "outputs": [
    {
     "data": {
      "image/png": "[encoded data removed]",
      "text/plain": [
       "<Figure size 432x288 with 1 Axes>"
      ]
     },
     "metadata": {
      "needs_background": "light"
     },
     "output_type": "display_data"
    }
   ],
   "source": [
    "top_4_views_per_tag_use_melt = top_4_views_per_tag_use.reset_index().melt(id_vars = ['index'],\n",
    "                                                                          value_vars = years_of_interest)\n",
    "top_4_views_per_tag_use_melt.columns = ['Tag', 'Year', 'value']\n",
    "\n",
    "fig3 = sns.lineplot(data = top_4_views_per_tag_use_melt,\n",
    "                    x = 'Year',\n",
    "                    y = 'value',\n",
    "                    hue = 'Tag',\n",
    "                    palette = ['blue','orange','red','green'])\n",
    "\n",
    "fig3 = fig3.set(ylabel = '',\n",
    "                title = 'Views per tag use over time',\n",
    "                yscale = 'log')"
   ]
  },
  {
   "cell_type": "markdown",
   "id": "a53514db",
   "metadata": {},
   "source": [
    "This plot paints a very different picture than the previous plots. For a start, **'deep learning'**, which **had the fewest tag uses** at the beginning of DSSE, **had - *by far* - the highest number of views per post**. This indicates that it was an intensely popular topic in 2014. The explanation for this might be that **deep learning was in its infancy in 2014**. It was accessible to only a few, yet intensely interesting to everyone in the field. Wikipedia's history of deep learning suggests this as well, where it mentions a ['deep learning revolution'](https://en.wikipedia.org/wiki/Deep_learning#Deep_learning_revolution) that started in 2012.\n",
    "\n",
    "The immediately obvious trend on this graph is that there is a **sharp decline in views per any tag** over time. Three possible explanations for this are:\n",
    "1. The number of questions is expanding more quickly than the number of interested viewers\n",
    "2. The number of interested viewers is decreasing.\n",
    "3. The number of tags per post is decreasing.\n",
    "\n",
    "To check which of these is the case, we can simply plot the raw post and view numbers over time."
   ]
  },
  {
   "cell_type": "code",
   "execution_count": 12,
   "id": "b6cbf2c8",
   "metadata": {},
   "outputs": [
    {
     "data": {
      "image/png": "[encoded data removed]",
      "text/plain": [
       "<Figure size 432x288 with 1 Axes>"
      ]
     },
     "metadata": {
      "needs_background": "light"
     },
     "output_type": "display_data"
    }
   ],
   "source": [
    "totals_plot = pd.DataFrame({'Total_views':total_views, 'Total_tags':total_tags}).reset_index()\n",
    "totals_plot_melt = totals_plot.melt(id_vars = 'index',\n",
    "                                    value_vars = ['Total_views', 'Total_tags'])\n",
    "\n",
    "totals_plot_melt['value'] = totals_plot_melt['value'].astype(float)\n",
    "\n",
    "\n",
    "fig4 = sns.lineplot(data = totals_plot_melt,\n",
    "                    x = 'index',\n",
    "                    y = 'value',\n",
    "                    hue = 'variable')\n",
    "fig4 = fig4.set(yscale = 'log',\n",
    "                xlabel = 'Year',\n",
    "                ylabel = '',\n",
    "                title = 'Total Views and Tags over Time')"
   ]
  },
  {
   "cell_type": "markdown",
   "id": "64685283",
   "metadata": {},
   "source": [
    "It is important to note that the data for 2021 is incomplete, so the final point on the curve will increase by the end of the year.\n",
    "\n",
    "Overall, this data points towards a shift away from DSSE's use."
   ]
  },
  {
   "cell_type": "markdown",
   "id": "0f7be84c",
   "metadata": {},
   "source": [
    "## Conclusion\n",
    "In this project, I pulled a list of all the questions asked on Data Science Stack Exchange (DSSE) from the [DSSE data explorer](https://data.stackexchange.com/datascience/query/new) and analyzed the data using tags and views as proxies for interest in topics in the field over time. The analysis showed:\n",
    "* *Machine learning* is consistently *the most-tagged topic*.\n",
    "* The *deep learning tag is growing*, while *machine learning is shrinking.*\n",
    "* The *number of views per tag in 2014 was highest for deep-learning*, suggesting that although there were a small number of posts in 2014, they were massively popular.\n",
    "* The number of tags used and the number of views on tags is decreasing over time. This could signal a *decrease in total activity on DSSE.*"
   ]
  }
 ],
 "metadata": {
  "kernelspec": {
   "display_name": "Python 3",
   "language": "python",
   "name": "python3"
  },
  "language_info": {
   "codemirror_mode": {
    "name": "ipython",
    "version": 3
   },
   "file_extension": ".py",
   "mimetype": "text/x-python",
   "name": "python",
   "nbconvert_exporter": "python",
   "pygments_lexer": "ipython3",
   "version": "3.8.8"
  }
 },
 "nbformat": 4,
 "nbformat_minor": 5
}
